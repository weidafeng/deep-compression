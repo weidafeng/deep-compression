{
  "nbformat": 4,
  "nbformat_minor": 0,
  "metadata": {
    "colab": {
      "name": "压缩网络deep compression-mnist.ipynb",
      "version": "0.3.2",
      "provenance": [],
      "include_colab_link": true
    },
    "kernelspec": {
      "name": "python2",
      "display_name": "Python 2"
    },
    "accelerator": "GPU"
  },
  "cells": [
    {
      "cell_type": "markdown",
      "metadata": {
        "id": "view-in-github",
        "colab_type": "text"
      },
      "source": [
        "<a href=\"https://colab.research.google.com/github/weidafeng/deep-compression/blob/master/%E5%8E%8B%E7%BC%A9%E7%BD%91%E7%BB%9Cdeep_compression_mnist.ipynb\" target=\"_parent\"><img src=\"https://colab.research.google.com/assets/colab-badge.svg\" alt=\"Open In Colab\"/></a>"
      ]
    },
    {
      "cell_type": "code",
      "metadata": {
        "id": "03s5HCg5zYvJ",
        "colab_type": "code",
        "colab": {
          "base_uri": "https://localhost:8080/",
          "height": 118
        },
        "outputId": "fb34fe23-1752-4a4e-aede-2360886ea8f5"
      },
      "source": [
        "!git clone https://github.com/WojciechMormul/deep-compression.git\n",
        "  "
      ],
      "execution_count": 2,
      "outputs": [
        {
          "output_type": "stream",
          "text": [
            "Cloning into 'deep-compression'...\n",
            "remote: Enumerating objects: 62, done.\u001b[K\n",
            "remote: Counting objects: 100% (62/62), done.\u001b[K\n",
            "remote: Compressing objects: 100% (57/57), done.\u001b[K\n",
            "remote: Total 62 (delta 28), reused 20 (delta 3), pack-reused 0\u001b[K\n",
            "Unpacking objects: 100% (62/62), done.\n"
          ],
          "name": "stdout"
        }
      ]
    },
    {
      "cell_type": "code",
      "metadata": {
        "id": "L92BzQGVzbQA",
        "colab_type": "code",
        "colab": {
          "base_uri": "https://localhost:8080/",
          "height": 34
        },
        "outputId": "6fb43fb9-a03d-4771-96f6-00c8a710e599"
      },
      "source": [
        "%cd deep-compression/"
      ],
      "execution_count": 3,
      "outputs": [
        {
          "output_type": "stream",
          "text": [
            "/content/deep-compression\n"
          ],
          "name": "stdout"
        }
      ]
    },
    {
      "cell_type": "code",
      "metadata": {
        "id": "lb1bg0ENzi8w",
        "colab_type": "code",
        "colab": {}
      },
      "source": [
        ""
      ],
      "execution_count": 0,
      "outputs": []
    },
    {
      "cell_type": "code",
      "metadata": {
        "id": "kAf7IFd_zi_p",
        "colab_type": "code",
        "colab": {
          "base_uri": "https://localhost:8080/",
          "height": 3817
        },
        "outputId": "63f5ddc3-d197-4d50-f5ec-4e8ecf954cb4"
      },
      "source": [
        "!python train.py"
      ],
      "execution_count": 4,
      "outputs": [
        {
          "output_type": "stream",
          "text": [
            "WARNING:tensorflow:From /usr/local/lib/python2.7/dist-packages/tensorflow/python/framework/op_def_library.py:263: colocate_with (from tensorflow.python.framework.ops) is deprecated and will be removed in a future version.\n",
            "Instructions for updating:\n",
            "Colocations handled automatically by placer.\n",
            "2019-05-10 03:35:19.132425: I tensorflow/core/platform/profile_utils/cpu_utils.cc:94] CPU Frequency: 2300000000 Hz\n",
            "2019-05-10 03:35:19.132700: I tensorflow/compiler/xla/service/service.cc:150] XLA service 0x5631b6665600 executing computations on platform Host. Devices:\n",
            "2019-05-10 03:35:19.132731: I tensorflow/compiler/xla/service/service.cc:158]   StreamExecutor device (0): <undefined>, <undefined>\n",
            "2019-05-10 03:35:19.369039: I tensorflow/stream_executor/cuda/cuda_gpu_executor.cc:998] successful NUMA node read from SysFS had negative value (-1), but there must be at least one NUMA node, so returning NUMA node zero\n",
            "2019-05-10 03:35:19.369590: I tensorflow/compiler/xla/service/service.cc:150] XLA service 0x5631b6666aa0 executing computations on platform CUDA. Devices:\n",
            "2019-05-10 03:35:19.369620: I tensorflow/compiler/xla/service/service.cc:158]   StreamExecutor device (0): Tesla T4, Compute Capability 7.5\n",
            "2019-05-10 03:35:19.369998: I tensorflow/core/common_runtime/gpu/gpu_device.cc:1433] Found device 0 with properties: \n",
            "name: Tesla T4 major: 7 minor: 5 memoryClockRate(GHz): 1.59\n",
            "pciBusID: 0000:00:04.0\n",
            "totalMemory: 14.73GiB freeMemory: 14.60GiB\n",
            "2019-05-10 03:35:19.370027: I tensorflow/core/common_runtime/gpu/gpu_device.cc:1512] Adding visible gpu devices: 0\n",
            "2019-05-10 03:35:20.736464: I tensorflow/core/common_runtime/gpu/gpu_device.cc:984] Device interconnect StreamExecutor with strength 1 edge matrix:\n",
            "2019-05-10 03:35:20.736539: I tensorflow/core/common_runtime/gpu/gpu_device.cc:990]      0 \n",
            "2019-05-10 03:35:20.736551: I tensorflow/core/common_runtime/gpu/gpu_device.cc:1003] 0:   N \n",
            "2019-05-10 03:35:20.736830: W tensorflow/core/common_runtime/gpu/gpu_bfc_allocator.cc:42] Overriding allow_growth setting because the TF_FORCE_GPU_ALLOW_GROWTH environment variable is set. Original config value was 0.\n",
            "2019-05-10 03:35:20.736924: I tensorflow/core/common_runtime/gpu/gpu_device.cc:1115] Created TensorFlow device (/job:localhost/replica:0/task:0/device:GPU:0 with 14115 MB memory) -> physical GPU (device: 0, name: Tesla T4, pci bus id: 0000:00:04.0, compute capability: 7.5)\n",
            "WARNING:tensorflow:From /usr/local/lib/python2.7/dist-packages/tensorflow/python/util/tf_should_use.py:193: initialize_all_variables (from tensorflow.python.ops.variables) is deprecated and will be removed after 2017-03-02.\n",
            "Instructions for updating:\n",
            "Use `tf.global_variables_initializer` instead.\n",
            "WARNING:tensorflow:From train.py:53: read_data_sets (from tensorflow.contrib.learn.python.learn.datasets.mnist) is deprecated and will be removed in a future version.\n",
            "Instructions for updating:\n",
            "Please use alternatives such as official/mnist/dataset.py from tensorflow/models.\n",
            "WARNING:tensorflow:From /usr/local/lib/python2.7/dist-packages/tensorflow/contrib/learn/python/learn/datasets/mnist.py:260: maybe_download (from tensorflow.contrib.learn.python.learn.datasets.base) is deprecated and will be removed in a future version.\n",
            "Instructions for updating:\n",
            "Please write your own downloading logic.\n",
            "WARNING:tensorflow:From /usr/local/lib/python2.7/dist-packages/tensorflow/contrib/learn/python/learn/datasets/base.py:252: wrapped_fn (from tensorflow.contrib.learn.python.learn.datasets.base) is deprecated and will be removed in a future version.\n",
            "Instructions for updating:\n",
            "Please use urllib or similar directly.\n",
            "Successfully downloaded train-images-idx3-ubyte.gz 9912422 bytes.\n",
            "WARNING:tensorflow:From /usr/local/lib/python2.7/dist-packages/tensorflow/contrib/learn/python/learn/datasets/mnist.py:262: extract_images (from tensorflow.contrib.learn.python.learn.datasets.mnist) is deprecated and will be removed in a future version.\n",
            "Instructions for updating:\n",
            "Please use tf.data to implement this functionality.\n",
            "Extracting MNIST_data/train-images-idx3-ubyte.gz\n",
            "Successfully downloaded train-labels-idx1-ubyte.gz 28881 bytes.\n",
            "WARNING:tensorflow:From /usr/local/lib/python2.7/dist-packages/tensorflow/contrib/learn/python/learn/datasets/mnist.py:267: extract_labels (from tensorflow.contrib.learn.python.learn.datasets.mnist) is deprecated and will be removed in a future version.\n",
            "Instructions for updating:\n",
            "Please use tf.data to implement this functionality.\n",
            "Extracting MNIST_data/train-labels-idx1-ubyte.gz\n",
            "WARNING:tensorflow:From /usr/local/lib/python2.7/dist-packages/tensorflow/contrib/learn/python/learn/datasets/mnist.py:110: dense_to_one_hot (from tensorflow.contrib.learn.python.learn.datasets.mnist) is deprecated and will be removed in a future version.\n",
            "Instructions for updating:\n",
            "Please use tf.one_hot on tensors.\n",
            "Successfully downloaded t10k-images-idx3-ubyte.gz 1648877 bytes.\n",
            "Extracting MNIST_data/t10k-images-idx3-ubyte.gz\n",
            "Successfully downloaded t10k-labels-idx1-ubyte.gz 4542 bytes.\n",
            "Extracting MNIST_data/t10k-labels-idx1-ubyte.gz\n",
            "WARNING:tensorflow:From /usr/local/lib/python2.7/dist-packages/tensorflow/contrib/learn/python/learn/datasets/mnist.py:290: __init__ (from tensorflow.contrib.learn.python.learn.datasets.mnist) is deprecated and will be removed in a future version.\n",
            "Instructions for updating:\n",
            "Please use alternatives such as official/mnist/dataset.py from tensorflow/models.\n",
            "2019-05-10 03:35:24.553481: I tensorflow/stream_executor/dso_loader.cc:152] successfully opened CUDA library libcublas.so.10.0 locally\n",
            "iter: 0 test accuracy: 0.1339\n",
            "iter: 10 test accuracy: 0.2937\n",
            "iter: 20 test accuracy: 0.5434\n",
            "iter: 30 test accuracy: 0.65559995\n",
            "iter: 40 test accuracy: 0.7213\n",
            "iter: 50 test accuracy: 0.76549995\n",
            "iter: 60 test accuracy: 0.7972\n",
            "iter: 70 test accuracy: 0.81549996\n",
            "iter: 80 test accuracy: 0.84029996\n",
            "iter: 90 test accuracy: 0.84799993\n",
            "iter: 100 test accuracy: 0.85679996\n",
            "iter: 110 test accuracy: 0.8607\n",
            "iter: 120 test accuracy: 0.8696\n",
            "iter: 130 test accuracy: 0.87229997\n",
            "iter: 140 test accuracy: 0.8849\n",
            "iter: 150 test accuracy: 0.88629997\n",
            "iter: 160 test accuracy: 0.89299995\n",
            "iter: 170 test accuracy: 0.8898999\n",
            "iter: 180 test accuracy: 0.8979\n",
            "iter: 190 test accuracy: 0.903\n",
            "iter: 200 test accuracy: 0.9013001\n",
            "iter: 210 test accuracy: 0.90839994\n",
            "iter: 220 test accuracy: 0.90909994\n",
            "iter: 230 test accuracy: 0.9096001\n",
            "iter: 240 test accuracy: 0.9146\n",
            "iter: 250 test accuracy: 0.9167\n",
            "iter: 260 test accuracy: 0.91940004\n",
            "iter: 270 test accuracy: 0.919\n",
            "iter: 280 test accuracy: 0.92490005\n",
            "iter: 290 test accuracy: 0.92419994\n",
            "iter: 300 test accuracy: 0.9267\n",
            "iter: 310 test accuracy: 0.92799985\n",
            "iter: 320 test accuracy: 0.9238\n",
            "iter: 330 test accuracy: 0.92340004\n",
            "iter: 340 test accuracy: 0.9292\n",
            "iter: 350 test accuracy: 0.9271\n",
            "iter: 360 test accuracy: 0.9297\n",
            "iter: 370 test accuracy: 0.93569994\n",
            "iter: 380 test accuracy: 0.9292\n",
            "iter: 390 test accuracy: 0.934\n",
            "iter: 400 test accuracy: 0.9341\n",
            "iter: 410 test accuracy: 0.9295\n",
            "iter: 420 test accuracy: 0.9335\n",
            "iter: 430 test accuracy: 0.9311\n",
            "iter: 440 test accuracy: 0.93649995\n",
            "iter: 450 test accuracy: 0.9319\n",
            "iter: 460 test accuracy: 0.93759996\n",
            "iter: 470 test accuracy: 0.9382001\n",
            "iter: 480 test accuracy: 0.9438999\n",
            "iter: 490 test accuracy: 0.9452001\n",
            "iter: 500 prune weights\n",
            "layer: conv1\n",
            "\tremaining weights: 251\n",
            "\ttotal weights: 800\n",
            "layer: conv2\n",
            "\tremaining weights: 16161\n",
            "\ttotal weights: 51200\n",
            "layer: fc1\n",
            "\tremaining weights: 1019697\n",
            "\ttotal weights: 3211264\n",
            "layer: fc2\n",
            "\tremaining weights: 3168\n",
            "\ttotal weights: 10240\n",
            "iter: 500 test accuracy: 0.6182\n",
            "iter: 510 test accuracy: 0.7665\n",
            "iter: 520 test accuracy: 0.81009996\n",
            "iter: 530 test accuracy: 0.8391\n",
            "iter: 540 test accuracy: 0.86380005\n",
            "iter: 550 test accuracy: 0.8784\n",
            "iter: 560 test accuracy: 0.8844999\n",
            "iter: 570 test accuracy: 0.8898999\n",
            "iter: 580 test accuracy: 0.8969\n",
            "iter: 590 test accuracy: 0.90079993\n",
            "iter: 600 test accuracy: 0.90430003\n",
            "iter: 610 test accuracy: 0.9059\n",
            "iter: 620 test accuracy: 0.9091999\n",
            "iter: 630 test accuracy: 0.91099995\n",
            "iter: 640 test accuracy: 0.91130006\n",
            "iter: 650 test accuracy: 0.91449994\n",
            "iter: 660 test accuracy: 0.9182\n",
            "iter: 670 test accuracy: 0.9172999\n",
            "iter: 680 test accuracy: 0.91719997\n",
            "iter: 690 test accuracy: 0.91940004\n",
            "iter: 700 test accuracy: 0.9198\n",
            "iter: 710 test accuracy: 0.91940004\n",
            "iter: 720 test accuracy: 0.9205\n",
            "iter: 730 test accuracy: 0.9200001\n",
            "iter: 740 test accuracy: 0.92419994\n",
            "iter: 750 test accuracy: 0.92550004\n",
            "iter: 760 test accuracy: 0.92550004\n",
            "iter: 770 test accuracy: 0.92630005\n",
            "iter: 780 test accuracy: 0.9280001\n",
            "iter: 790 test accuracy: 0.926\n",
            "iter: 800 test accuracy: 0.92820007\n",
            "iter: 810 test accuracy: 0.9301001\n",
            "iter: 820 test accuracy: 0.92939997\n",
            "iter: 830 test accuracy: 0.93029994\n",
            "iter: 840 test accuracy: 0.9299\n",
            "iter: 850 test accuracy: 0.9316\n",
            "iter: 860 test accuracy: 0.9323\n",
            "iter: 870 test accuracy: 0.9334\n",
            "iter: 880 test accuracy: 0.93250006\n",
            "iter: 890 test accuracy: 0.93240005\n",
            "iter: 900 test accuracy: 0.93369997\n",
            "iter: 910 test accuracy: 0.934\n",
            "iter: 920 test accuracy: 0.9332\n",
            "iter: 930 test accuracy: 0.936\n",
            "iter: 940 test accuracy: 0.93640006\n",
            "iter: 950 test accuracy: 0.93619996\n",
            "iter: 960 test accuracy: 0.9375\n",
            "iter: 970 test accuracy: 0.93640006\n",
            "iter: 980 test accuracy: 0.9362\n",
            "iter: 990 test accuracy: 0.9356001\n",
            "iter: 1000 quantize weights\n",
            "layer: conv1\n",
            "\tcentroids: [-0.25521943 -0.13398533  0.12185236  0.16584414  0.24313906]\n",
            "layer: conv2\n",
            "\tcentroids: [-0.24591909 -0.17206196 -0.1191569   0.13201977  0.2142197 ]\n",
            "layer: fc1\n",
            "\tcentroids: [-0.21145865 -0.12948026  0.12130098  0.17267703  0.24578431]\n",
            "layer: fc2\n",
            "\tcentroids: [-0.24876337 -0.17711999 -0.12374588  0.13314433  0.21741243]\n",
            "iter: 1000 test accuracy: 0.8646\n",
            "iter: 1010 test accuracy: 0.88170004\n",
            "iter: 1020 test accuracy: 0.88909996\n",
            "iter: 1030 test accuracy: 0.8942\n",
            "iter: 1040 test accuracy: 0.8981999\n",
            "iter: 1050 test accuracy: 0.9021999\n",
            "iter: 1060 test accuracy: 0.9063999\n",
            "iter: 1070 test accuracy: 0.90559995\n",
            "iter: 1080 test accuracy: 0.90839994\n",
            "iter: 1090 test accuracy: 0.90959996\n",
            "iter: 1100 test accuracy: 0.90999997\n",
            "iter: 1110 test accuracy: 0.91120005\n",
            "iter: 1120 test accuracy: 0.91170007\n",
            "iter: 1130 test accuracy: 0.9113\n",
            "iter: 1140 test accuracy: 0.9122\n",
            "iter: 1150 test accuracy: 0.913\n",
            "iter: 1160 test accuracy: 0.9122\n",
            "iter: 1170 test accuracy: 0.9125\n",
            "iter: 1180 test accuracy: 0.91429996\n",
            "iter: 1190 test accuracy: 0.91429996\n",
            "iter: 1200 test accuracy: 0.9146\n",
            "iter: 1210 test accuracy: 0.9139999\n",
            "iter: 1220 test accuracy: 0.9137\n",
            "iter: 1230 test accuracy: 0.91450006\n",
            "iter: 1240 test accuracy: 0.91499996\n",
            "iter: 1250 test accuracy: 0.91559994\n",
            "iter: 1260 test accuracy: 0.9157001\n",
            "iter: 1270 test accuracy: 0.9158\n",
            "iter: 1280 test accuracy: 0.9156\n",
            "iter: 1290 test accuracy: 0.91590005\n",
            "iter: 1300 test accuracy: 0.9161\n",
            "iter: 1310 test accuracy: 0.9155\n",
            "iter: 1320 test accuracy: 0.9149\n",
            "iter: 1330 test accuracy: 0.91520005\n",
            "iter: 1340 test accuracy: 0.9161\n",
            "iter: 1350 test accuracy: 0.9163\n",
            "iter: 1360 test accuracy: 0.91620004\n",
            "iter: 1370 test accuracy: 0.91660005\n",
            "iter: 1380 test accuracy: 0.91740006\n",
            "iter: 1390 test accuracy: 0.9171001\n",
            "iter: 1400 test accuracy: 0.91780007\n",
            "iter: 1410 test accuracy: 0.9175\n",
            "iter: 1420 test accuracy: 0.91789997\n",
            "iter: 1430 test accuracy: 0.9177\n",
            "iter: 1440 test accuracy: 0.9176\n",
            "iter: 1450 test accuracy: 0.91830003\n",
            "iter: 1460 test accuracy: 0.9182\n",
            "iter: 1470 test accuracy: 0.9177\n",
            "iter: 1480 test accuracy: 0.9168\n",
            "iter: 1490 test accuracy: 0.91730005\n",
            "Training finished\n"
          ],
          "name": "stdout"
        }
      ]
    },
    {
      "cell_type": "code",
      "metadata": {
        "id": "Jvo8onv6zjCO",
        "colab_type": "code",
        "colab": {
          "base_uri": "https://localhost:8080/",
          "height": 927
        },
        "outputId": "5fea440a-5d5f-4c0a-d506-bd4f6dad21c8"
      },
      "source": [
        "!python deploy.py"
      ],
      "execution_count": 5,
      "outputs": [
        {
          "output_type": "stream",
          "text": [
            "layer: conv1\n",
            "\tvalid matrix weights: 251\n",
            "\ttotal tensor weights: 800\n",
            "\ttotal matrix weights: 4917248\n",
            "layer: conv2\n",
            "\tvalid matrix weights: 16161\n",
            "\ttotal tensor weights: 51200\n",
            "\ttotal matrix weights: 19668992\n",
            "layer: fc1\n",
            "\tvalid matrix weights: 1019697.0\n",
            "\ttotal matrix weights: 3211264\n",
            "layer: fc2\n",
            "\tvalid matrix weights: 3168.0\n",
            "\ttotal matrix weights: 10240\n",
            "WARNING:tensorflow:From deploy.py:46: read_data_sets (from tensorflow.contrib.learn.python.learn.datasets.mnist) is deprecated and will be removed in a future version.\n",
            "Instructions for updating:\n",
            "Please use alternatives such as official/mnist/dataset.py from tensorflow/models.\n",
            "WARNING:tensorflow:From /usr/local/lib/python2.7/dist-packages/tensorflow/contrib/learn/python/learn/datasets/mnist.py:260: maybe_download (from tensorflow.contrib.learn.python.learn.datasets.base) is deprecated and will be removed in a future version.\n",
            "Instructions for updating:\n",
            "Please write your own downloading logic.\n",
            "WARNING:tensorflow:From /usr/local/lib/python2.7/dist-packages/tensorflow/contrib/learn/python/learn/datasets/mnist.py:262: extract_images (from tensorflow.contrib.learn.python.learn.datasets.mnist) is deprecated and will be removed in a future version.\n",
            "Instructions for updating:\n",
            "Please use tf.data to implement this functionality.\n",
            "Extracting MNIST_data/train-images-idx3-ubyte.gz\n",
            "WARNING:tensorflow:From /usr/local/lib/python2.7/dist-packages/tensorflow/contrib/learn/python/learn/datasets/mnist.py:267: extract_labels (from tensorflow.contrib.learn.python.learn.datasets.mnist) is deprecated and will be removed in a future version.\n",
            "Instructions for updating:\n",
            "Please use tf.data to implement this functionality.\n",
            "Extracting MNIST_data/train-labels-idx1-ubyte.gz\n",
            "WARNING:tensorflow:From /usr/local/lib/python2.7/dist-packages/tensorflow/contrib/learn/python/learn/datasets/mnist.py:110: dense_to_one_hot (from tensorflow.contrib.learn.python.learn.datasets.mnist) is deprecated and will be removed in a future version.\n",
            "Instructions for updating:\n",
            "Please use tf.one_hot on tensors.\n",
            "Extracting MNIST_data/t10k-images-idx3-ubyte.gz\n",
            "Extracting MNIST_data/t10k-labels-idx1-ubyte.gz\n",
            "WARNING:tensorflow:From /usr/local/lib/python2.7/dist-packages/tensorflow/contrib/learn/python/learn/datasets/mnist.py:290: __init__ (from tensorflow.contrib.learn.python.learn.datasets.mnist) is deprecated and will be removed in a future version.\n",
            "Instructions for updating:\n",
            "Please use alternatives such as official/mnist/dataset.py from tensorflow/models.\n",
            "2019-05-10 03:54:48.475847: I tensorflow/core/platform/profile_utils/cpu_utils.cc:94] CPU Frequency: 2300000000 Hz\n",
            "2019-05-10 03:54:48.476126: I tensorflow/compiler/xla/service/service.cc:150] XLA service 0x5592e92c32e0 executing computations on platform Host. Devices:\n",
            "2019-05-10 03:54:48.476164: I tensorflow/compiler/xla/service/service.cc:158]   StreamExecutor device (0): <undefined>, <undefined>\n",
            "2019-05-10 03:54:48.657442: I tensorflow/stream_executor/cuda/cuda_gpu_executor.cc:998] successful NUMA node read from SysFS had negative value (-1), but there must be at least one NUMA node, so returning NUMA node zero\n",
            "2019-05-10 03:54:48.657998: I tensorflow/compiler/xla/service/service.cc:150] XLA service 0x5592e92c2ec0 executing computations on platform CUDA. Devices:\n",
            "2019-05-10 03:54:48.658032: I tensorflow/compiler/xla/service/service.cc:158]   StreamExecutor device (0): Tesla T4, Compute Capability 7.5\n",
            "2019-05-10 03:54:48.658415: I tensorflow/core/common_runtime/gpu/gpu_device.cc:1433] Found device 0 with properties: \n",
            "name: Tesla T4 major: 7 minor: 5 memoryClockRate(GHz): 1.59\n",
            "pciBusID: 0000:00:04.0\n",
            "totalMemory: 14.73GiB freeMemory: 14.60GiB\n",
            "2019-05-10 03:54:48.658440: I tensorflow/core/common_runtime/gpu/gpu_device.cc:1512] Adding visible gpu devices: 0\n",
            "2019-05-10 03:54:49.068233: I tensorflow/core/common_runtime/gpu/gpu_device.cc:984] Device interconnect StreamExecutor with strength 1 edge matrix:\n",
            "2019-05-10 03:54:49.068309: I tensorflow/core/common_runtime/gpu/gpu_device.cc:990]      0 \n",
            "2019-05-10 03:54:49.068322: I tensorflow/core/common_runtime/gpu/gpu_device.cc:1003] 0:   N \n",
            "2019-05-10 03:54:49.068576: W tensorflow/core/common_runtime/gpu/gpu_bfc_allocator.cc:42] Overriding allow_growth setting because the TF_FORCE_GPU_ALLOW_GROWTH environment variable is set. Original config value was 0.\n",
            "2019-05-10 03:54:49.068641: I tensorflow/core/common_runtime/gpu/gpu_device.cc:1115] Created TensorFlow device (/job:localhost/replica:0/task:0/device:GPU:0 with 14115 MB memory) -> physical GPU (device: 0, name: Tesla T4, pci bus id: 0000:00:04.0, compute capability: 7.5)\n",
            "deploy accuracy: 0.9179999\n"
          ],
          "name": "stdout"
        }
      ]
    },
    {
      "cell_type": "code",
      "metadata": {
        "id": "O8dn5JKfzjE1",
        "colab_type": "code",
        "colab": {}
      },
      "source": [
        ""
      ],
      "execution_count": 0,
      "outputs": []
    },
    {
      "cell_type": "code",
      "metadata": {
        "id": "cVUEyd_n5kGL",
        "colab_type": "code",
        "colab": {}
      },
      "source": [
        ""
      ],
      "execution_count": 0,
      "outputs": []
    }
  ]
}